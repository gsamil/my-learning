{
 "cells": [
  {
   "cell_type": "markdown",
   "metadata": {
    "application/vnd.databricks.v1+cell": {
     "cellMetadata": {},
     "inputWidgets": {},
     "nuid": "11f27f70-7005-47c7-887b-b90594c6bbe1",
     "showTitle": false,
     "title": ""
    }
   },
   "source": [
    "### Running a function in the background"
   ]
  },
  {
   "cell_type": "code",
   "execution_count": 1,
   "metadata": {
    "application/vnd.databricks.v1+cell": {
     "cellMetadata": {
      "byteLimit": 2048000,
      "rowLimit": 10000
     },
     "inputWidgets": {},
     "nuid": "9c80d9f2-cddf-4f53-924c-0fb6a4419767",
     "showTitle": false,
     "title": ""
    }
   },
   "outputs": [],
   "source": [
    "import time\n",
    "import asyncio\n",
    "from concurrent.futures.thread import ThreadPoolExecutor\n",
    "\n",
    "THREADPOOL = ThreadPoolExecutor(5)\n",
    "\n",
    "\n",
    "def main():\n",
    "    print(\"Hello, World!\")\n",
    "    time.sleep(1)\n",
    "    print(\"Goodbye, World!\")\n",
    "\n",
    "\n",
    "async def async_main() -> None:\n",
    "    # Run main in the background, but don't wait for it\n",
    "    asyncio.get_event_loop().run_in_executor(THREADPOOL, main)\n",
    "\n",
    "\n",
    "def await_main() -> None:\n",
    "    asyncio.run(async_main())\n",
    "    print(\"Done!\")\n",
    "\n",
    "\n",
    "# if __name__ == \"__main__\":\n",
    "    # You can use this to run a function in the background\n",
    "    # await_main()"
   ]
  },
  {
   "cell_type": "code",
   "execution_count": 2,
   "metadata": {
    "application/vnd.databricks.v1+cell": {
     "cellMetadata": {
      "byteLimit": 2048000,
      "rowLimit": 10000
     },
     "inputWidgets": {},
     "nuid": "73a04bc0-0eb1-4147-ab9d-97de60cb778b",
     "showTitle": false,
     "title": ""
    }
   },
   "outputs": [
    {
     "name": "stdout",
     "output_type": "stream",
     "text": [
      "Hello, World!\n",
      "Done!\n"
     ]
    },
    {
     "name": "stdout",
     "output_type": "stream",
     "text": [
      "Goodbye, World!\n"
     ]
    }
   ],
   "source": [
    "await async_main()\n",
    "print(\"Done!\")"
   ]
  },
  {
   "cell_type": "markdown",
   "metadata": {
    "application/vnd.databricks.v1+cell": {
     "cellMetadata": {},
     "inputWidgets": {},
     "nuid": "046e7225-a245-41e8-bbd8-b1673388b78a",
     "showTitle": false,
     "title": ""
    }
   },
   "source": [
    "### Running multiple functions in the background"
   ]
  },
  {
   "cell_type": "code",
   "execution_count": null,
   "metadata": {
    "application/vnd.databricks.v1+cell": {
     "cellMetadata": {},
     "inputWidgets": {},
     "nuid": "62eb598f-a341-44a7-9d78-d9a5b8485532",
     "showTitle": false,
     "title": ""
    }
   },
   "outputs": [],
   "source": [
    "import time\n",
    "from asyncio import Task\n",
    "import asyncio\n",
    "from concurrent.futures.thread import ThreadPoolExecutor\n",
    "\n",
    "THREADPOOL = ThreadPoolExecutor(5)\n",
    "\n",
    "\n",
    "def update_lead(lead: str, new: str) -> str:\n",
    "    return f\"{lead}\\n{new}\"\n",
    "\n",
    "def get_email_result(email: str) -> str:\n",
    "    print(f\"Getting email for {email}\")\n",
    "    time.sleep(1)\n",
    "    print(f\"Finished Email: {email}\")\n",
    "    return f\"Email: {email}\"\n",
    "\n",
    "def get_linkedin_url(linkedin_url: str) -> str:\n",
    "    print(f\"Getting linkedin for {linkedin_url}\")\n",
    "    time.sleep(3)\n",
    "    print(f\"Finished Linkedin: {linkedin_url}\")\n",
    "    return f\"Linkedin: {linkedin_url}\"\n",
    "\n",
    "async def _async_get_email_result(email: str) -> str:\n",
    "    return await asyncio.get_event_loop().run_in_executor(\n",
    "        THREADPOOL, lambda: get_email_result(email)\n",
    "    )\n",
    "\n",
    "async def _async_get_linkedin_url(linkedin_url: str) -> str:\n",
    "    return await asyncio.get_event_loop().run_in_executor(\n",
    "        THREADPOOL, lambda: get_linkedin_url(linkedin_url)\n",
    "    )\n",
    "\n",
    "async def async_run_multiple(\n",
    "    email: Task[str | None] | None = None,\n",
    "    linkedin_url: Task[str | None] | None = None,\n",
    ") -> tuple[str, list[str]]:\n",
    "    \"\"\"\n",
    "    Implementation of enrich_lead_information that allows for asynchronous data retrieval.\n",
    "    Once all fields are retrieved, the function will terminate early.\n",
    "    \"\"\"\n",
    "    start = time.monotonic()\n",
    "\n",
    "    maybe_tasks = [\n",
    "        email,\n",
    "        linkedin_url,\n",
    "    ]\n",
    "    lead = \"Lead Information:\"  # Change this for your case\n",
    "    early_termination_condition = False  # Change this for your case\n",
    "    all_infos: list[str] = []\n",
    "    early_termination: bool = False\n",
    "    for task in maybe_tasks:\n",
    "        if early_termination_condition:\n",
    "            early_termination = True\n",
    "            break\n",
    "        if task and (new := await task):\n",
    "            lead = update_lead(lead, new)\n",
    "            all_infos.append(new)\n",
    "    return lead, all_infos\n",
    "\n",
    "\n",
    "async def _async_get_results(\n",
    "    email: str,\n",
    "    linkedin_url: str,\n",
    ") -> str:\n",
    "    result, all_infos = await async_run_multiple(\n",
    "        email=asyncio.create_task(_async_get_email_result(email)),\n",
    "        linkedin_url=asyncio.create_task(_async_get_linkedin_url(linkedin_url)),\n",
    "    )\n",
    "\n",
    "    return result\n",
    "\n",
    "\n",
    "def await_get_results(email: str, linkedin_url: str) -> str:\n",
    "    return asyncio.run(_async_get_results(email, linkedin_url))\n",
    "\n",
    "\n",
    "if __name__ == \"__main__\":\n",
    "    email = \"abdullah@leadiq.com\"\n",
    "    linkedin_url = \"https://www.linkedin.com/in/abdullah/\"\n",
    "    result = await_get_results(email, linkedin_url)\n",
    "    print(result)"
   ]
  }
 ],
 "metadata": {
  "application/vnd.databricks.v1+notebook": {
   "dashboards": [],
   "environmentMetadata": null,
   "language": "python",
   "notebookMetadata": {
    "pythonIndentUnit": 4
   },
   "notebookName": "run_on_background.ipynb",
   "widgets": {}
  },
  "kernelspec": {
   "display_name": "venv",
   "language": "python",
   "name": "python3"
  },
  "language_info": {
   "codemirror_mode": {
    "name": "ipython",
    "version": 3
   },
   "file_extension": ".py",
   "mimetype": "text/x-python",
   "name": "python",
   "nbconvert_exporter": "python",
   "pygments_lexer": "ipython3",
   "version": "3.10.13"
  }
 },
 "nbformat": 4,
 "nbformat_minor": 0
}
